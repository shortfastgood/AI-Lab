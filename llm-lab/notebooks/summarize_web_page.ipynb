{
 "cells": [
  {
   "cell_type": "code",
   "execution_count": 3,
   "id": "initial_id",
   "metadata": {
    "collapsed": true,
    "ExecuteTime": {
     "end_time": "2023-09-03T10:57:58.754363Z",
     "start_time": "2023-09-03T10:57:58.481008Z"
    }
   },
   "outputs": [
    {
     "name": "stdout",
     "output_type": "stream",
     "text": [
      "Language model developed by Google\n",
      "Bidirectional Encoder Representations from Transformers (BERT) is a family of language models introduced in 2018 by researchers at Google.[1][2] A 2020 literature survey concluded that \"in a little over a year, BERT has become a ubiquitous baseline in Natural Language Processing (NLP) experiments counting over 150 research publications analyzing and improving the model.\"[3]\n",
      "BERT was originally implemented in the English language at two model sizes:[1] (1) BERTBASE: 12 encoders with 12 bidirectional self-attention heads totaling 110 million parameters, and (2) BERTLARGE: 24 encoders with 16 bidirectional self-attention heads totaling 340 million parameters. Both models were pre-trained on the Toronto BookCorpus[4] (800M words) and English Wikipedia  (2,500M words).\n",
      "\n",
      "\n",
      "Architecture[edit]\n",
      "BERT is based on the transformer architecture. Specifically, BERT is composed of Transformer encoder layers.\n",
      "BERT uses WordPiece to convert each English word into an integer code. Its vocabulary has size 30,000. Any token not appearing in its vocabulary is replaced by [UNK] for \"unknown\".\n",
      "BERT was pre-trained simultaneously on two tasks:[5]\n",
      "language modeling: 15% of tokens were selected for prediction, and the training objective was to predict the selected token given its context. The selected token is \n",
      "\n",
      "replaced with a [MASK] token with probability 80%,\n",
      "replaced with a random word token with probability 10%,\n",
      "not replaced with probability 10%.\n",
      "For example, the sentence \"my dog is cute\" may have the 4-th token selected for prediction. The model would have input text\n",
      "\n",
      "\"my dog is [MASK]\" with probability 80%,\n",
      "\"my dog is happy\" with probability 10%,\n",
      "\"my dog is cute\" with probability 10%.\n",
      "After processing the input text, the model's 4-th output vector is passed to a separate neural network, which outputs a probability distribution over its 30,000-large vocabulary.\n",
      "next sentence prediction: Given two spans of text, the model predicts if these two spans appeared sequentially in the training corpus, outputting either [IsNext] or [NotNext]. The first span starts with a special token [CLS] (for \"classify\"). The two spans are separated by a special token [SEP] (for \"separate\"). After processing the two spans, the 1-st output vector (the vector coding for [CLS]) is passed to a separate neural network for the binary classification into [IsNext] and [NotNext].\n",
      "\n",
      "For example, given \"[CLS] my dog is cute [SEP] he likes playing\" the model should output token [IsNext].\n",
      "Given \"[CLS] my dog is cute [SEP] how do magnets work\" the model should output token [NotNext].\n",
      "As a result of this training process, BERT learns latent representations of words and sentences in context. After pre-training, BERT can be fine-tuned with fewer resources on smaller datasets to optimize its performance on specific tasks such as NLP tasks (language inference, text classification) and sequence-to-sequence based language generation tasks (question-answering, conversational response generation).[1][6] The pre-training stage is significantly more computationally expensive than fine-tuning.\n",
      "\n",
      "Performance[edit]\n",
      "When BERT was published, it achieved state-of-the-art performance on a number of natural language understanding tasks:[1]\n",
      "\n",
      "Analysis[edit]\n",
      "The reasons for BERT's state-of-the-art performance on these natural language understanding tasks are not yet well understood.[9][10] Current research has focused on investigating the relationship behind BERT's output as a result of carefully chosen input sequences,[11][12] analysis of internal vector representations through probing classifiers,[13][14] and the relationships represented by attention weights.[9][10]\n",
      "The high performance of the BERT model could also be attributed to the fact that it is bidirectionally trained. This means that BERT, based on the Transformer model architecture, applies its self-attention mechanism to learn information from a text from the left and right side during training, and consequently gains a deep understanding of the context. For example, the word fine can have two different meanings depending on the context (I feel fine today, She has fine blond hair).  BERT considers the words surrounding the target word fine from the left and right side.\n",
      "However it comes at a cost: due to encoder-only architecture lacking a decoder, BERT can't be prompted and can't generate text, while bidirectional models in general do not work effectively without the right side,[clarification needed] thus being difficult to prompt, with even short text generation requiring sophisticated computationally expensive techniques.[15]\n",
      "In contrast to deep learning neural networks which require very large amounts of data, BERT has already been pre-trained which means that it has learnt the representations of the words and sentences as well as the underlying semantic relations that they are connected with. BERT can then be fine-tuned on smaller datasets for specific tasks such as sentiment classification. The pre-trained models are chosen according to the content of the given dataset one uses but also the goal of the task. For example, if the task is a sentiment classification task on financial data, a pre-trained model for the analysis of sentiment of financial text should be chosen. The weights of the original pre-trained models were released on GitHub.[16]\n",
      "\n",
      "History[edit]\n",
      "BERT was originally published by Google researchers Jacob Devlin, Ming-Wei Chang, Kenton Lee, and Kristina Toutanova. The design has its origins from pre-training contextual representations, including semi-supervised sequence learning,[17] generative pre-training, ELMo,[18] and ULMFit.[19] Unlike previous models, BERT is a deeply bidirectional, unsupervised language representation, pre-trained using only a plain text corpus. Context-free models such as word2vec or GloVe generate a single word embedding representation for each word in the vocabulary, whereas BERT takes into account the context for each occurrence of a given word. For instance, whereas the vector for \"running\" will have the same word2vec vector representation for both of its occurrences in the sentences \"He is running a company\" and \"He is running a marathon\", BERT will provide a contextualized embedding that will be different according to the sentence.[citation needed]\n",
      "On October 25, 2019, Google announced that they had started applying BERT models for English language search queries within the US.[20] On December 9, 2019, it was reported that BERT had been adopted by Google Search for over 70 languages.[21] In October 2020, almost every single English-based query was processed by a BERT model.[22]\n",
      "\n",
      "Recognition[edit]\n",
      "The research paper describing BERT won the Best Long Paper Award at the 2019 Annual Conference of the North American Chapter of the Association for Computational Linguistics (NAACL).[23]\n",
      "\n",
      "References[edit]\n",
      "\n",
      "\n",
      "^ a b c d Devlin, Jacob; Chang, Ming-Wei; Lee, Kenton; Toutanova, Kristina (11 October 2018). \"BERT: Pre-training of Deep Bidirectional Transformers for Language Understanding\". arXiv:1810.04805v2 [cs.CL].\n",
      "\n",
      "^ \"Open Sourcing BERT: State-of-the-Art Pre-training for Natural Language Processing\". Google AI Blog. 2 November 2018. Retrieved 2019-11-27.\n",
      "\n",
      "^ Rogers, Anna; Kovaleva, Olga; Rumshisky, Anna (2020). \"A Primer in BERTology: What We Know About How BERT Works\". Transactions of the Association for Computational Linguistics. 8: 842–866. arXiv:2002.12327. doi:10.1162/tacl_a_00349. S2CID 211532403.\n",
      "\n",
      "^ Zhu, Yukun; Kiros, Ryan; Zemel, Rich; Salakhutdinov, Ruslan; Urtasun, Raquel; Torralba, Antonio; Fidler, Sanja (2015). \"Aligning Books and Movies: Towards Story-Like Visual Explanations by Watching Movies and Reading Books\". pp. 19–27. arXiv:1506.06724 [cs.CV].\n",
      "\n",
      "^ \"Summary of the models — transformers 3.4.0 documentation\". huggingface.co. Retrieved 2023-02-16.\n",
      "\n",
      "^ Horev, Rani (2018). \"BERT Explained: State of the art language model for NLP\". Towards Data Science. Retrieved 27 September 2021.\n",
      "\n",
      "^ Rajpurkar, Pranav; Zhang, Jian; Lopyrev, Konstantin; Liang, Percy (2016-10-10). \"SQuAD: 100,000+ Questions for Machine Comprehension of Text\". arXiv:1606.05250 [cs.CL].\n",
      "\n",
      "^ Zellers, Rowan; Bisk, Yonatan; Schwartz, Roy; Choi, Yejin (2018-08-15). \"SWAG: A Large-Scale Adversarial Dataset for Grounded Commonsense Inference\". arXiv:1808.05326 [cs.CL].\n",
      "\n",
      "^ a b Kovaleva, Olga; Romanov, Alexey; Rogers, Anna; Rumshisky, Anna (November 2019). \"Revealing the Dark Secrets of BERT\". Proceedings of the 2019 Conference on Empirical Methods in Natural Language Processing and the 9th International Joint Conference on Natural Language Processing (EMNLP-IJCNLP). pp. 4364–4373. doi:10.18653/v1/D19-1445. S2CID 201645145.\n",
      "\n",
      "^ a b Clark, Kevin; Khandelwal, Urvashi; Levy, Omer; Manning, Christopher D. (2019). \"What Does BERT Look at? An Analysis of BERT's Attention\". Proceedings of the 2019 ACL Workshop BlackboxNLP: Analyzing and Interpreting Neural Networks for NLP. Stroudsburg, PA, USA: Association for Computational Linguistics: 276–286. arXiv:1906.04341. doi:10.18653/v1/w19-4828.\n",
      "\n",
      "^ Khandelwal, Urvashi; He, He; Qi, Peng; Jurafsky, Dan (2018). \"Sharp Nearby, Fuzzy Far Away: How Neural Language Models Use Context\". Proceedings of the 56th Annual Meeting of the Association for Computational Linguistics (Volume 1: Long Papers). Stroudsburg, PA, USA: Association for Computational Linguistics: 284–294. arXiv:1805.04623. doi:10.18653/v1/p18-1027. S2CID 21700944.\n",
      "\n",
      "^ Gulordava, Kristina; Bojanowski, Piotr; Grave, Edouard; Linzen, Tal; Baroni, Marco (2018). \"Colorless Green Recurrent Networks Dream Hierarchically\". Proceedings of the 2018 Conference of the North American Chapter of the Association for Computational Linguistics: Human Language Technologies, Volume 1 (Long Papers). Stroudsburg, PA, USA: Association for Computational Linguistics: 1195–1205. arXiv:1803.11138. doi:10.18653/v1/n18-1108. S2CID 4460159.\n",
      "\n",
      "^ Giulianelli, Mario; Harding, Jack; Mohnert, Florian; Hupkes, Dieuwke; Zuidema, Willem (2018). \"Under the Hood: Using Diagnostic Classifiers to Investigate and Improve how Language Models Track Agreement Information\". Proceedings of the 2018 EMNLP Workshop BlackboxNLP: Analyzing and Interpreting Neural Networks for NLP. Stroudsburg, PA, USA: Association for Computational Linguistics: 240–248. arXiv:1808.08079. doi:10.18653/v1/w18-5426. S2CID 52090220.\n",
      "\n",
      "^ Zhang, Kelly; Bowman, Samuel (2018). \"Language Modeling Teaches You More than Translation Does: Lessons Learned Through Auxiliary Syntactic Task Analysis\". Proceedings of the 2018 EMNLP Workshop BlackboxNLP: Analyzing and Interpreting Neural Networks for NLP. Stroudsburg, PA, USA: Association for Computational Linguistics: 359–361. doi:10.18653/v1/w18-5448.\n",
      "\n",
      "^ Patel, Ajay; Li, Bryan; Mohammad Sadegh Rasooli; Constant, Noah; Raffel, Colin; Callison-Burch, Chris (2022). \"Bidirectional Language Models Are Also Few-shot Learners\". arXiv:2209.14500 [cs.LG].\n",
      "\n",
      "^ \"BERT\". GitHub. Retrieved 28 March 2023.\n",
      "\n",
      "^ Dai, Andrew; Le, Quoc (4 November 2015). \"Semi-supervised Sequence Learning\". arXiv:1511.01432 [cs.LG].\n",
      "\n",
      "^ Peters, Matthew; Neumann, Mark; Iyyer, Mohit; Gardner, Matt; Clark, Christopher; Lee, Kenton; Luke, Zettlemoyer (15 February 2018). \"Deep contextualized word representations\". arXiv:1802.05365v2 [cs.CL].\n",
      "\n",
      "^ Howard, Jeremy; Ruder, Sebastian (18 January 2018). \"Universal Language Model Fine-tuning for Text Classification\". arXiv:1801.06146v5 [cs.CL].\n",
      "\n",
      "^ Nayak, Pandu (25 October 2019). \"Understanding searches better than ever before\". Google Blog. Retrieved 10 December 2019.\n",
      "\n",
      "^ Montti, Roger (10 December 2019). \"Google's BERT Rolls Out Worldwide\". Search Engine Journal. Search Engine Journal. Retrieved 10 December 2019.\n",
      "\n",
      "^ \"Google: BERT now used on almost every English query\". Search Engine Land. 2020-10-15. Retrieved 2020-11-24.\n",
      "\n",
      "^ \"Best Paper Awards\". NAACL. 2019. Retrieved Mar 28, 2020.\n",
      "\n",
      "\n",
      "Further reading[edit]\n",
      "Rogers, Anna; Kovaleva, Olga; Rumshisky, Anna (2020). \"A Primer in BERTology: What we know about how BERT works\". arXiv:2002.12327 [cs.CL].\n",
      "External links[edit]\n"
     ]
    }
   ],
   "source": [
    "from bs4 import BeautifulSoup\n",
    "from readability import Document\n",
    "import requests\n",
    "\n",
    "# Get the content of a WEB page using the URL.\n",
    "def get_content(url):\n",
    "    doc = Document(requests.get(url, stream=True).text)\n",
    "    return BeautifulSoup(doc.summary()).text\n",
    "\n",
    "print(get_content(\"https://en.wikipedia.org/wiki/BERT_(language_model)\"))"
   ]
  },
  {
   "cell_type": "code",
   "execution_count": 11,
   "outputs": [
    {
     "name": "stdout",
     "output_type": "stream",
     "text": [
      " Bidirectional Encoder Representations from Transformers (BERT) is a family of language models introduced in 2018 by researchers at Google . BERT uses WordPiece to convert each English word into an integer code . Its vocabulary has size 30,000 . The high performance of the BERT could also be attributed to the fact that it is bidirectionally trained . After pre-training, BERT can be fine-tuned with fewer resources on smaller datasets to optimize its performance on specific tasks such as NLP tasks .\n"
     ]
    }
   ],
   "source": [
    "from bs4 import BeautifulSoup\n",
    "from readability import Document\n",
    "import requests\n",
    "from transformers import pipeline\n",
    "\n",
    "# Get the content of a WEB page using the URL.\n",
    "def get_content(url):\n",
    "    doc = Document(requests.get(url, stream=True).text)\n",
    "    return BeautifulSoup(doc.summary()).text\n",
    "\n",
    "# Initialize the HuggingFace summarization pipeline\n",
    "summarizer = pipeline(\"summarization\", model=\"sshleifer/distilbart-cnn-12-6\")\n",
    "# Run summarization\n",
    "summary = summarizer(get_content(\"https://en.wikipedia.org/wiki/BERT_(language_model)\")[0:4000], max_length=200, min_length=100, do_sample=False)\n",
    "# Print summary\n",
    "print(summary[0]['summary_text'])"
   ],
   "metadata": {
    "collapsed": false,
    "ExecuteTime": {
     "end_time": "2023-09-03T11:52:40.289786Z",
     "start_time": "2023-09-03T11:52:24.542903Z"
    }
   },
   "id": "76c1fad9cbe1702c"
  }
 ],
 "metadata": {
  "kernelspec": {
   "display_name": "Python 3",
   "language": "python",
   "name": "python3"
  },
  "language_info": {
   "codemirror_mode": {
    "name": "ipython",
    "version": 2
   },
   "file_extension": ".py",
   "mimetype": "text/x-python",
   "name": "python",
   "nbconvert_exporter": "python",
   "pygments_lexer": "ipython2",
   "version": "2.7.6"
  }
 },
 "nbformat": 4,
 "nbformat_minor": 5
}
