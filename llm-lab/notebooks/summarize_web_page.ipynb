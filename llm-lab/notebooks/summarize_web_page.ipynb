{
 "cells": [
  {
   "cell_type": "code",
   "execution_count": null,
   "id": "initial_id",
   "metadata": {
    "collapsed": true
   },
   "outputs": [],
   "source": [
    "from bs4 import BeautifulSoup\n",
    "from readability import Document\n",
    "import requests\n",
    "\n",
    "# Get the content of a WEB page using the URL.\n",
    "def get_content(url):\n",
    "    doc = Document(requests.get(url, stream=True).text)\n",
    "    return BeautifulSoup(doc.summary()).text\n",
    "\n",
    "print(get_content(\"https://en.wikipedia.org/wiki/BERT_(language_model)\"))"
   ]
  },
  {
   "cell_type": "code",
   "execution_count": null,
   "outputs": [],
   "source": [
    "from bs4 import BeautifulSoup\n",
    "from readability import Document\n",
    "import requests\n",
    "from transformers import pipeline\n",
    "\n",
    "# Get the content of a WEB page using the URL.\n",
    "def get_content(url):\n",
    "    doc = Document(requests.get(url, stream=True).text)\n",
    "    return BeautifulSoup(doc.summary()).text\n",
    "\n",
    "# Initialize the HuggingFace summarization pipeline\n",
    "summarizer = pipeline(\"summarization\", model=\"sshleifer/distilbart-cnn-12-6\")\n",
    "# Run summarization\n",
    "summary = summarizer(get_content(\"https://en.wikipedia.org/wiki/BERT_(language_model)\")[0:4000], max_length=200, min_length=100, do_sample=False)\n",
    "# Print summary\n",
    "print(summary[0]['summary_text'])"
   ],
   "metadata": {
    "collapsed": false
   },
   "id": "76c1fad9cbe1702c"
  }
 ],
 "metadata": {
  "kernelspec": {
   "display_name": "Python 3",
   "language": "python",
   "name": "python3"
  },
  "language_info": {
   "codemirror_mode": {
    "name": "ipython",
    "version": 2
   },
   "file_extension": ".py",
   "mimetype": "text/x-python",
   "name": "python",
   "nbconvert_exporter": "python",
   "pygments_lexer": "ipython2",
   "version": "2.7.6"
  }
 },
 "nbformat": 4,
 "nbformat_minor": 5
}
