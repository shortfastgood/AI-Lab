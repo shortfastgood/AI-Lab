{
 "cells": [
  {
   "cell_type": "markdown",
   "source": [
    "*** Dowload model snapshot ***"
   ],
   "metadata": {
    "collapsed": false
   },
   "id": "ea031666f561a687"
  },
  {
   "cell_type": "code",
   "execution_count": null,
   "outputs": [],
   "source": [
    "from huggingface_hub import snapshot_download\n",
    "\n",
    "snapshot_download(repo_id=\"MBZUAI/LaMini-Flan-T5-248M\", local_dir='/Users/dden/LLM/MBZUAI/LaMini-Flan-T5-248M',\n",
    "                  local_dir_use_symlinks=False, ignore_patterns=[\"*.h5\"],\n",
    "                  token=\"hf_...\")"
   ],
   "metadata": {
    "collapsed": false
   },
   "id": "cc31c7a149d90b78"
  }
 ],
 "metadata": {
  "kernelspec": {
   "display_name": "Python 3",
   "language": "python",
   "name": "python3"
  },
  "language_info": {
   "codemirror_mode": {
    "name": "ipython",
    "version": 2
   },
   "file_extension": ".py",
   "mimetype": "text/x-python",
   "name": "python",
   "nbconvert_exporter": "python",
   "pygments_lexer": "ipython2",
   "version": "2.7.6"
  }
 },
 "nbformat": 4,
 "nbformat_minor": 5
}
