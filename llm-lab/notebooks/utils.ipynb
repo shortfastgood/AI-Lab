{
 "cells": [
  {
   "cell_type": "code",
   "execution_count": 4,
   "outputs": [
    {
     "name": "stdout",
     "output_type": "stream",
     "text": [
      "cpu\n"
     ]
    }
   ],
   "source": [
    "import torch\n",
    "device = \"cuda:0\" if torch.cuda.is_available() else \"cpu\"\n",
    "print(device)"
   ],
   "metadata": {
    "collapsed": false,
    "ExecuteTime": {
     "end_time": "2023-09-16T13:01:33.446987Z",
     "start_time": "2023-09-16T13:01:31.369382Z"
    }
   },
   "id": "5103704753721629"
  },
  {
   "cell_type": "code",
   "execution_count": null,
   "outputs": [],
   "source": [
    "def remove_empty_lines(text):\n",
    "    return '\\n'.join(line for line in text.splitlines() if line.strip())\n",
    "\n",
    "text = \"\"\"Hello\n",
    "\n",
    "This is a sample text.\n",
    "\n",
    "It contains empty lines.\n",
    "\"\"\"\n",
    "\n",
    "print(remove_empty_lines(text))\n"
   ],
   "metadata": {
    "collapsed": false
   },
   "id": "47448fe575088c3d"
  },
  {
   "cell_type": "code",
   "execution_count": null,
   "outputs": [],
   "source": [
    "import os\n",
    "\n",
    "def is_existing_readable_file(filepath: str) -> bool:\n",
    "    return os.path.isfile(filepath) and os.access(filepath, os.R_OK)\n",
    "\n",
    "# Test\n",
    "print(is_existing_readable_file(\"../data/agile-patterns.pdf\"))  # True if ../data/agile-patterns.pdf is existing and readable\n",
    "print(is_existing_readable_file(\"nonexistent.txt\"))    # False"
   ],
   "metadata": {
    "collapsed": false
   },
   "id": "e6aabc6a4859fe1b"
  },
  {
   "cell_type": "markdown",
   "source": [
    "***Validate URL***"
   ],
   "metadata": {
    "collapsed": false
   },
   "id": "80d8dcc0de837c6f"
  },
  {
   "cell_type": "code",
   "execution_count": null,
   "id": "initial_id",
   "metadata": {
    "collapsed": true
   },
   "outputs": [],
   "source": [
    "from urllib.parse import urlparse\n",
    "\n",
    "def is_well_formatted_url(s: str) -> bool:\n",
    "    try:\n",
    "        result = urlparse(s)\n",
    "        return all([result.scheme, result.netloc])\n",
    "    except ValueError:\n",
    "        return False\n",
    "\n",
    "# Test\n",
    "print(is_well_formatted_url(\"https://www.openai.com\"))  # True\n",
    "print(is_well_formatted_url(\"openai.com\"))              # False\n",
    "print(is_well_formatted_url(\"https:/openai.com\"))       # False\n"
   ]
  }
 ],
 "metadata": {
  "kernelspec": {
   "display_name": "Python 3",
   "language": "python",
   "name": "python3"
  },
  "language_info": {
   "codemirror_mode": {
    "name": "ipython",
    "version": 2
   },
   "file_extension": ".py",
   "mimetype": "text/x-python",
   "name": "python",
   "nbconvert_exporter": "python",
   "pygments_lexer": "ipython2",
   "version": "2.7.6"
  }
 },
 "nbformat": 4,
 "nbformat_minor": 5
}
