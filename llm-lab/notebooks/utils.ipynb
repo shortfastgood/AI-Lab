{
 "cells": [
  {
   "cell_type": "markdown",
   "source": [
    "***Check for devices***"
   ],
   "metadata": {
    "collapsed": false
   },
   "id": "593994fae242458c"
  },
  {
   "cell_type": "code",
   "execution_count": null,
   "outputs": [],
   "source": [
    "import torch\n",
    "\n",
    "if torch.has_cudnn:\n",
    "    device = \"cuda:0\"\n",
    "    print(\"cuDNN version: {}\".format(torch.backends.cudnn.version()))\n",
    "elif torch.has_mps:\n",
    "    device = \"mps\"\n",
    "else:\n",
    "    device = \"cpu\"\n",
    "    \n",
    "print(device)"
   ],
   "metadata": {
    "collapsed": false
   },
   "id": "5103704753721629"
  },
  {
   "cell_type": "markdown",
   "source": [
    "***Remove empty lines from a text***"
   ],
   "metadata": {
    "collapsed": false
   },
   "id": "46b1f8f060a3b3ad"
  },
  {
   "cell_type": "code",
   "execution_count": null,
   "outputs": [],
   "source": [
    "def remove_empty_lines(text):\n",
    "    return '\\n'.join(line for line in text.splitlines() if line.strip())\n",
    "\n",
    "text = \"\"\"Hello\n",
    "\n",
    "This is a sample text.\n",
    "\n",
    "It contains empty lines.\n",
    "\"\"\"\n",
    "\n",
    "print(remove_empty_lines(text))\n"
   ],
   "metadata": {
    "collapsed": false
   },
   "id": "47448fe575088c3d"
  },
  {
   "cell_type": "markdown",
   "source": [
    "***Check if a file exists and is readable***"
   ],
   "metadata": {
    "collapsed": false
   },
   "id": "536c206e99256157"
  },
  {
   "cell_type": "code",
   "execution_count": null,
   "outputs": [],
   "source": [
    "import os\n",
    "\n",
    "def is_existing_readable_file(filepath: str) -> bool:\n",
    "    return os.path.isfile(filepath) and os.access(filepath, os.R_OK)\n",
    "\n",
    "# Test\n",
    "print(is_existing_readable_file(\"../data/agile-patterns.pdf\"))  # True if ../data/agile-patterns.pdf is existing and readable\n",
    "print(is_existing_readable_file(\"nonexistent.txt\"))    # False"
   ],
   "metadata": {
    "collapsed": false
   },
   "id": "e6aabc6a4859fe1b"
  },
  {
   "cell_type": "markdown",
   "source": [
    "***Validate URL***"
   ],
   "metadata": {
    "collapsed": false
   },
   "id": "80d8dcc0de837c6f"
  },
  {
   "cell_type": "code",
   "execution_count": null,
   "id": "initial_id",
   "metadata": {
    "collapsed": true
   },
   "outputs": [],
   "source": [
    "from urllib.parse import urlparse\n",
    "\n",
    "def is_well_formatted_url(s: str) -> bool:\n",
    "    try:\n",
    "        result = urlparse(s)\n",
    "        return all([result.scheme, result.netloc])\n",
    "    except ValueError:\n",
    "        return False\n",
    "\n",
    "# Test\n",
    "print(is_well_formatted_url(\"https://www.openai.com\"))  # True\n",
    "print(is_well_formatted_url(\"openai.com\"))              # False\n",
    "print(is_well_formatted_url(\"https:/openai.com\"))       # False\n"
   ]
  },
  {
   "cell_type": "markdown",
   "source": [
    "*** Text to ASCII art ***"
   ],
   "metadata": {
    "collapsed": false
   },
   "id": "6cf90503fc6f106b"
  },
  {
   "cell_type": "code",
   "execution_count": null,
   "outputs": [],
   "source": [
    "import pyfiglet\n",
    "\n",
    "font_list = [i for i in pyfiglet.FigletFont.getFonts()]\n",
    "\n",
    "print(font_list)"
   ],
   "metadata": {
    "collapsed": false
   },
   "id": "37e4bb881094c628"
  },
  {
   "cell_type": "code",
   "execution_count": null,
   "outputs": [],
   "source": [
    "print(pyfiglet.figlet_format(\"Hello World!\", font=\"big_money-nw\"))"
   ],
   "metadata": {
    "collapsed": false
   },
   "id": "b4753740fc599568"
  }
 ],
 "metadata": {
  "kernelspec": {
   "display_name": "Python 3",
   "language": "python",
   "name": "python3"
  },
  "language_info": {
   "codemirror_mode": {
    "name": "ipython",
    "version": 2
   },
   "file_extension": ".py",
   "mimetype": "text/x-python",
   "name": "python",
   "nbconvert_exporter": "python",
   "pygments_lexer": "ipython2",
   "version": "2.7.6"
  }
 },
 "nbformat": 4,
 "nbformat_minor": 5
}
