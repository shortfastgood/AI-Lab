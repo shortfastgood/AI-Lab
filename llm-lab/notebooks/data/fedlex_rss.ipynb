{
 "cells": [
  {
   "cell_type": "code",
   "execution_count": null,
   "id": "initial_id",
   "metadata": {
    "collapsed": true
   },
   "outputs": [],
   "source": [
    "import feedparser\n",
    "\n",
    "# RSS feed url\n",
    "feed_url = 'https://fedlex.data.admin.ch/api/rss-de.xml'\n",
    "\n",
    "# Parse the feed\n",
    "feed = feedparser.parse(feed_url)\n",
    "\n",
    "# Iterate over the feed entries\n",
    "for entry in feed.entries:\n",
    "    print(entry.title)\n",
    "    print(entry.link)\n",
    "    print(entry.published)\n",
    "    print(entry.description)\n",
    "    print()"
   ]
  },
  {
   "cell_type": "code",
   "execution_count": 2,
   "outputs": [],
   "source": [
    "from haystack.nodes import Crawler\n",
    "\n",
    "crawler = Crawler(output_dir=\"../../target/fedlex/doc\") # This tells the Crawler where to store the crawled files\n",
    "docs = crawler.crawl(\n",
    "    urls=[\"https://www.fedlex.admin.ch/it/cc/internal-law/73\"], # This tells the Crawler which URLs to crawl\n",
    "    crawler_depth=1 # This tells the Crawler to follow only the links that it finds on the initial URLs\n",
    ")"
   ],
   "metadata": {
    "collapsed": false,
    "ExecuteTime": {
     "end_time": "2023-12-10T11:05:44.716400Z",
     "start_time": "2023-12-10T11:05:42.517067Z"
    }
   },
   "id": "3428372fdb36f652"
  },
  {
   "cell_type": "code",
   "execution_count": 1,
   "outputs": [],
   "source": [
    "from haystack.pipelines import Pipeline\n",
    "from haystack.nodes import Crawler, PreProcessor\n",
    "\n",
    "crawler = Crawler(\n",
    "    urls=[\"https://haystack.deepset.ai/docs/get-started\"],\n",
    "    filter_urls=[\"haystack\"], # Here, you can pass regular expressions that the crawled URLs must comply with\n",
    "    crawler_depth=1, # This tells the Crawler to follow only the links that it finds on the initial URLs\n",
    "    output_dir=\"../../target/fedlex/doc\"\n",
    ")\n",
    "preprocessor = PreProcessor(\n",
    "    clean_empty_lines=True,\n",
    "    clean_whitespace=True,\n",
    "    clean_header_footer=True,\n",
    "    split_by=\"word\",\n",
    "    split_length=500,\n",
    "    split_respect_sentence_boundary=True,\n",
    "    split_overlap=0\n",
    ")\n",
    "docs = crawler.crawl(\n",
    "    urls=[\"https://haystack.deepset.ai/docs/get-started\"], # This tells the Crawler which URLs to crawl\n",
    "    filter_urls=[\"haystack\"], # Here, you can pass regular expressions that the crawled URLs must comply with\n",
    "    crawler_depth=1 # This tells the Crawler to follow only the links that it finds on the initial URLs\n",
    ")"
   ],
   "metadata": {
    "collapsed": false,
    "ExecuteTime": {
     "end_time": "2023-12-10T10:38:25.967016Z",
     "start_time": "2023-12-10T10:38:03.844367Z"
    }
   },
   "id": "2e117a209721f217"
  }
 ],
 "metadata": {
  "kernelspec": {
   "display_name": "Python 3",
   "language": "python",
   "name": "python3"
  },
  "language_info": {
   "codemirror_mode": {
    "name": "ipython",
    "version": 2
   },
   "file_extension": ".py",
   "mimetype": "text/x-python",
   "name": "python",
   "nbconvert_exporter": "python",
   "pygments_lexer": "ipython2",
   "version": "2.7.6"
  }
 },
 "nbformat": 4,
 "nbformat_minor": 5
}
