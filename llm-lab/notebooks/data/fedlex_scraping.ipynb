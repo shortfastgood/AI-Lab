{
 "cells": [
  {
   "cell_type": "code",
   "execution_count": null,
   "id": "initial_id",
   "metadata": {
    "collapsed": true
   },
   "outputs": [],
   "source": [
    "import feedparser\n",
    "\n",
    "# RSS feed url\n",
    "feed_url = 'https://fedlex.data.admin.ch/api/rss-de.xml'\n",
    "\n",
    "# Parse the feed\n",
    "feed = feedparser.parse(feed_url)\n",
    "\n",
    "# Iterate over the feed entries\n",
    "for entry in feed.entries:\n",
    "    print(entry.title)\n",
    "    print(entry.link)\n",
    "    print(entry.published)\n",
    "    print(entry.description)\n",
    "    print()"
   ]
  }
 ],
 "metadata": {
  "kernelspec": {
   "display_name": "Python 3",
   "language": "python",
   "name": "python3"
  },
  "language_info": {
   "codemirror_mode": {
    "name": "ipython",
    "version": 2
   },
   "file_extension": ".py",
   "mimetype": "text/x-python",
   "name": "python",
   "nbconvert_exporter": "python",
   "pygments_lexer": "ipython2",
   "version": "2.7.6"
  }
 },
 "nbformat": 4,
 "nbformat_minor": 5
}
