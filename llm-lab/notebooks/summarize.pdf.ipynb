{
 "cells": [
  {
   "cell_type": "code",
   "execution_count": null,
   "id": "initial_id",
   "metadata": {
    "collapsed": true
   },
   "outputs": [],
   "source": [
    "from pdfminer.high_level import extract_text\n",
    "\n",
    "# Read PDF document and extract the text from a range of pages.\n",
    "def extract_text_from_pdf(pdf_path, start_page=None, end_page=None):\n",
    "    return extract_text(pdf_path, page_numbers=range(start_page, end_page+1) if start_page and end_page else None)\n",
    "\n",
    "# Usage\n",
    "pdf_path = '../data/agile-patterns.pdf'\n",
    "extracted_text = extract_text_from_pdf(pdf_path, 1, 8)\n",
    "print(extracted_text)"
   ]
  },
  {
   "cell_type": "code",
   "execution_count": null,
   "outputs": [],
   "source": [
    "from pdfminer.high_level import extract_text\n",
    "from transformers import pipeline\n",
    "\n",
    "# Read PDF document and extract the text from a range of pages.\n",
    "def extract_text_from_pdf(pdf_path, start_page=None, end_page=None):\n",
    "    return extract_text(pdf_path, page_numbers=range(start_page, end_page+1) if start_page and end_page else None)\n",
    "\n",
    "# Usage\n",
    "pdf_path = '../data/CACM\\'18_Search-based_Program_Synthesis.pdf'\n",
    "extracted_text = extract_text_from_pdf(pdf_path, 1, 8)\n",
    "# Initialize the HuggingFace summarization pipeline\n",
    "summarizer = pipeline(\"summarization\", model=\"sshleifer/distilbart-cnn-12-6\")\n",
    "# Run summarization\n",
    "summary = summarizer(extracted_text[0:3200], max_length=200, min_length=100, do_sample=False)\n",
    "# Print summary\n",
    "print(summary[0]['summary_text'])"
   ],
   "metadata": {
    "collapsed": false
   },
   "id": "340976a798ca0b0"
  }
 ],
 "metadata": {
  "kernelspec": {
   "display_name": "Python 3",
   "language": "python",
   "name": "python3"
  },
  "language_info": {
   "codemirror_mode": {
    "name": "ipython",
    "version": 2
   },
   "file_extension": ".py",
   "mimetype": "text/x-python",
   "name": "python",
   "nbconvert_exporter": "python",
   "pygments_lexer": "ipython2",
   "version": "2.7.6"
  }
 },
 "nbformat": 4,
 "nbformat_minor": 5
}
