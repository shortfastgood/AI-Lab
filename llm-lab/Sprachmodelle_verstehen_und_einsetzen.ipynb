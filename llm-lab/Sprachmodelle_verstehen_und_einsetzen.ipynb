{
 "cells": [
  {
   "cell_type": "code",
   "execution_count": null,
   "id": "fb258b93",
   "metadata": {},
   "outputs": [],
   "source": [
    "from transformers import pipeline"
   ]
  },
  {
   "cell_type": "code",
   "execution_count": null,
   "id": "1db28dcb",
   "metadata": {},
   "outputs": [],
   "source": [
    "sentiment = pipeline(\"sentiment-analysis\", \n",
    "                     model=\"nlptown/bert-base-multilingual-uncased-sentiment\")"
   ]
  },
  {
   "cell_type": "code",
   "execution_count": null,
   "id": "a53042b6",
   "metadata": {
    "scrolled": true
   },
   "outputs": [],
   "source": [
    "texts = [\"Das funktioniert überhaupt nicht.\",\n",
    "         \"Ich bin absolut begeistert!\",\n",
    "         \"Works like a charm.\",\n",
    "         \"J'aime beaucoup.\",\n",
    "         \"Der letzte Müll!\"]\n",
    "output = sentiment(texts)"
   ]
  },
  {
   "cell_type": "code",
   "execution_count": null,
   "id": "76fe380b",
   "metadata": {},
   "outputs": [],
   "source": [
    "import pandas as pd\n",
    "df = pd.DataFrame(output)\n",
    "df[\"text\"] = texts\n",
    "df"
   ]
  },
  {
   "cell_type": "code",
   "execution_count": null,
   "id": "0e3fecbc",
   "metadata": {},
   "outputs": [],
   "source": []
  },
  {
   "cell_type": "code",
   "execution_count": null,
   "id": "d3b2c49e",
   "metadata": {},
   "outputs": [],
   "source": [
    "from readability import Document\n",
    "import requests\n",
    "from bs4 import BeautifulSoup\n",
    "doc = Document(requests.get(\"https://en.wikipedia.org/wiki/BERT_(language_model)\", \n",
    "                            stream=True).text)\n",
    "soup = BeautifulSoup(doc.summary())            \n",
    "content = soup.text"
   ]
  },
  {
   "cell_type": "code",
   "execution_count": null,
   "id": "722e7934",
   "metadata": {},
   "outputs": [],
   "source": [
    "from transformers import pipeline\n",
    "summarizer = pipeline(\"summarization\", model=\"sshleifer/distilbart-cnn-12-6\")"
   ]
  },
  {
   "cell_type": "code",
   "execution_count": null,
   "id": "039261be",
   "metadata": {},
   "outputs": [],
   "source": [
    "output = summarizer(content[0:4000])\n",
    "output"
   ]
  },
  {
   "cell_type": "code",
   "execution_count": null,
   "id": "1903ff5c",
   "metadata": {},
   "outputs": [],
   "source": []
  },
  {
   "cell_type": "code",
   "execution_count": null,
   "id": "9eabb7fc",
   "metadata": {},
   "outputs": [],
   "source": [
    "sentences = \"\"\"\n",
    "Meine Lieblingssprache ist Python.\n",
    "Ich programmiere gerne in Java.\n",
    "Webseiten werden mit HTML gestaltet.\n",
    "Für Data Science sind Jupyter Notebooks gut geeignet.\n",
    "BPNM dient zur Modellierung von Geschäftsprozessen\n",
    "\"\"\".split(\"\\n\")\n",
    "sentences = [s for s in sentences if s != '']\n",
    "sentences"
   ]
  },
  {
   "cell_type": "code",
   "execution_count": null,
   "id": "545ed4f3",
   "metadata": {},
   "outputs": [],
   "source": [
    "from sentence_transformers import SentenceTransformer, util\n",
    "\n",
    "model = SentenceTransformer('distiluse-base-multilingual-cased-v1')\n",
    "embeddings = model.encode(sentences)"
   ]
  },
  {
   "cell_type": "code",
   "execution_count": null,
   "id": "6b0d6e6a",
   "metadata": {},
   "outputs": [],
   "source": [
    "cos_sim = util.cos_sim(embeddings, embeddings)\n",
    "\n",
    "df_sim = pd.DataFrame(cos_sim.numpy(), index=sentences, columns=sentences)\n",
    "df_sim"
   ]
  }
 ],
 "metadata": {
  "kernelspec": {
   "display_name": "Python 3 (ipykernel)",
   "language": "python",
   "name": "python3"
  },
  "language_info": {
   "codemirror_mode": {
    "name": "ipython",
    "version": 3
   },
   "file_extension": ".py",
   "mimetype": "text/x-python",
   "name": "python",
   "nbconvert_exporter": "python",
   "pygments_lexer": "ipython3",
   "version": "3.8.10"
  },
  "toc": {
   "base_numbering": 1,
   "nav_menu": {},
   "number_sections": true,
   "sideBar": true,
   "skip_h1_title": false,
   "title_cell": "Table of Contents",
   "title_sidebar": "Contents",
   "toc_cell": false,
   "toc_position": {},
   "toc_section_display": true,
   "toc_window_display": false
  }
 },
 "nbformat": 4,
 "nbformat_minor": 5
}
