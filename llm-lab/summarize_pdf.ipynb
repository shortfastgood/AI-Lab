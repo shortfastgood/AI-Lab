{
 "cells": [
  {
   "cell_type": "code",
   "execution_count": 1,
   "outputs": [],
   "source": [
    "import nltk\n",
    "from transformers import pipeline"
   ],
   "metadata": {
    "collapsed": false
   },
   "id": "initial_id"
  },
  {
   "cell_type": "code",
   "execution_count": 2,
   "outputs": [
    {
     "name": "stderr",
     "output_type": "stream",
     "text": [
      "[nltk_data] Downloading package punkt to /Users/dden/nltk_data...\n",
      "[nltk_data]   Unzipping tokenizers/punkt.zip.\n",
      "[nltk_data] Downloading package averaged_perceptron_tagger to\n",
      "[nltk_data]     /Users/dden/nltk_data...\n",
      "[nltk_data]   Unzipping taggers/averaged_perceptron_tagger.zip.\n"
     ]
    },
    {
     "data": {
      "text/plain": "True"
     },
     "execution_count": 2,
     "metadata": {},
     "output_type": "execute_result"
    }
   ],
   "source": [
    "nltk.download('punkt')\n",
    "nltk.download('averaged_perceptron_tagger')"
   ],
   "metadata": {
    "collapsed": false,
    "ExecuteTime": {
     "end_time": "2023-08-30T16:48:33.870968Z",
     "start_time": "2023-08-30T16:48:30.337952Z"
    }
   },
   "id": "542f3e6f733df1d9"
  },
  {
   "cell_type": "code",
   "execution_count": 3,
   "outputs": [
    {
     "ename": "UnicodeDecodeError",
     "evalue": "'utf-8' codec can't decode byte 0xb5 in position 11: invalid start byte",
     "output_type": "error",
     "traceback": [
      "\u001B[0;31m---------------------------------------------------------------------------\u001B[0m",
      "\u001B[0;31mUnicodeDecodeError\u001B[0m                        Traceback (most recent call last)",
      "Cell \u001B[0;32mIn[3], line 17\u001B[0m\n\u001B[1;32m     14\u001B[0m     summarized_text \u001B[38;5;241m=\u001B[39m summary[\u001B[38;5;241m0\u001B[39m][\u001B[38;5;124m'\u001B[39m\u001B[38;5;124msummary_text\u001B[39m\u001B[38;5;124m'\u001B[39m]\n\u001B[1;32m     15\u001B[0m     \u001B[38;5;28;01mreturn\u001B[39;00m summarized_text\n\u001B[0;32m---> 17\u001B[0m \u001B[43msummarize_pdf\u001B[49m\u001B[43m(\u001B[49m\u001B[38;5;124;43m'\u001B[39;49m\u001B[38;5;124;43mdata/eurocontrol-ifps-users-manual-25.pdf\u001B[39;49m\u001B[38;5;124;43m'\u001B[39;49m\u001B[43m)\u001B[49m\n",
      "Cell \u001B[0;32mIn[3], line 4\u001B[0m, in \u001B[0;36msummarize_pdf\u001B[0;34m(file_path)\u001B[0m\n\u001B[1;32m      1\u001B[0m \u001B[38;5;28;01mdef\u001B[39;00m \u001B[38;5;21msummarize_pdf\u001B[39m(file_path):\n\u001B[1;32m      2\u001B[0m     \u001B[38;5;66;03m# Read PDF document\u001B[39;00m\n\u001B[1;32m      3\u001B[0m     \u001B[38;5;28;01mwith\u001B[39;00m \u001B[38;5;28mopen\u001B[39m(file_path, \u001B[38;5;124m'\u001B[39m\u001B[38;5;124mrb\u001B[39m\u001B[38;5;124m'\u001B[39m) \u001B[38;5;28;01mas\u001B[39;00m file:\n\u001B[0;32m----> 4\u001B[0m         pdf_text \u001B[38;5;241m=\u001B[39m \u001B[43mfile\u001B[49m\u001B[38;5;241;43m.\u001B[39;49m\u001B[43mread\u001B[49m\u001B[43m(\u001B[49m\u001B[43m)\u001B[49m\u001B[38;5;241;43m.\u001B[39;49m\u001B[43mdecode\u001B[49m\u001B[43m(\u001B[49m\u001B[38;5;124;43m'\u001B[39;49m\u001B[38;5;124;43mutf-8\u001B[39;49m\u001B[38;5;124;43m'\u001B[39;49m\u001B[43m)\u001B[49m\n\u001B[1;32m      5\u001B[0m     \u001B[38;5;66;03m# Tokenize the text into sentences\u001B[39;00m\n\u001B[1;32m      6\u001B[0m     sentences \u001B[38;5;241m=\u001B[39m nltk\u001B[38;5;241m.\u001B[39msent_tokenize(pdf_text)\n",
      "\u001B[0;31mUnicodeDecodeError\u001B[0m: 'utf-8' codec can't decode byte 0xb5 in position 11: invalid start byte"
     ]
    }
   ],
   "source": [
    "def summarize_pdf(file_path):\n",
    "    # Read PDF document\n",
    "    with open(file_path, 'rb') as file:\n",
    "        pdf_text = file.read().decode('utf-8')\n",
    "    # Tokenize the text into sentences\n",
    "    sentences = nltk.sent_tokenize(pdf_text)\n",
    "    # Combine the sentences into a single string\n",
    "    document = ' '.join(sentences)\n",
    "    # Initialize the BART summarization pipeline\n",
    "    summarizer = pipeline('summarization')\n",
    "    # Generate the summary\n",
    "    summary = summarizer(document, max_length=150, min_length=30, do_sample=False)\n",
    "    # Extract the summary from the returned result\n",
    "    summarized_text = summary[0]['summary_text']\n",
    "    return summarized_text\n",
    "\n",
    "summarize_pdf('data/eurocontrol-ifps-users-manual-25.pdf')"
   ],
   "metadata": {
    "collapsed": false,
    "ExecuteTime": {
     "end_time": "2023-08-30T17:02:03.950419Z",
     "start_time": "2023-08-30T17:02:03.405030Z"
    }
   },
   "id": "b8e758a45378acde"
  }
 ],
 "metadata": {
  "kernelspec": {
   "display_name": "Python 3",
   "language": "python",
   "name": "python3"
  },
  "language_info": {
   "codemirror_mode": {
    "name": "ipython",
    "version": 2
   },
   "file_extension": ".py",
   "mimetype": "text/x-python",
   "name": "python",
   "nbconvert_exporter": "python",
   "pygments_lexer": "ipython2",
   "version": "2.7.6"
  }
 },
 "nbformat": 4,
 "nbformat_minor": 5
}
